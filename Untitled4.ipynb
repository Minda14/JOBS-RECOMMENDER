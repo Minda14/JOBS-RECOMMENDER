{
 "cells": [
  {
   "cell_type": "code",
   "execution_count": 1,
   "id": "8dfe4b67-b302-438e-a255-f743c672cdf6",
   "metadata": {},
   "outputs": [],
   "source": [
    "import numpy as np\n",
    "import pandas as pd\n",
    "from sklearn.feature_extraction.text import CountVectorizer\n",
    "from sklearn.metrics.pairwise import cosine_similarity\n",
    "import pickle\n"
   ]
  },
  {
   "cell_type": "code",
   "execution_count": 2,
   "id": "df8723bb-c377-4531-8776-d35b6d9ead72",
   "metadata": {},
   "outputs": [],
   "source": [
    "jobs = pd.read_csv('postings.csv')"
   ]
  },
  {
   "cell_type": "code",
   "execution_count": 3,
   "id": "3d47c43c-bc45-444e-9a30-9dd7c14297bd",
   "metadata": {},
   "outputs": [],
   "source": [
    "skills = pd.read_csv('job_skills.csv')\n",
    "industries = pd.read_csv('job_industries.csv')\n",
    "industries_name = pd.read_csv('industries.csv')\n",
    "skill_name = pd.read_csv('skills.csv')\n",
    "company_industries_name = pd.read_csv('company_industries.csv')\n",
    "company_specialities_name = pd.read_csv('company_specialities.csv')\n",
    "\n",
    "# Merge data"
   ]
  },
  {
   "cell_type": "code",
   "execution_count": 4,
   "id": "e968a971-f403-4a9f-92ef-aaf1d6009282",
   "metadata": {},
   "outputs": [],
   "source": [
    "jobs = jobs.merge(skills, on='job_id', suffixes=('_jobs', '_skills'))"
   ]
  },
  {
   "cell_type": "code",
   "execution_count": 5,
   "id": "9e7c255e-e35b-4995-9e09-da0258ba29bd",
   "metadata": {},
   "outputs": [],
   "source": [
    "jobs = jobs.merge(industries, on='job_id', suffixes=('_jobs1', '_industries'))\n",
    "jobs = jobs.merge(industries_name, on='industry_id', suffixes=('_jobs2', '_industries'))"
   ]
  },
  {
   "cell_type": "code",
   "execution_count": 6,
   "id": "967212e1-df53-462a-ab72-488ef2bb32cc",
   "metadata": {},
   "outputs": [],
   "source": [
    "jobs = jobs.merge(skill_name, on='skill_abr', suffixes=('_jobs3', '_skillname'))\n",
    "jobs = jobs.merge(company_industries_name, on='company_id', suffixes=('_jobs4', '_companyindustriesname'))\n",
    "jobs = jobs.merge(company_specialities_name, on='company_id', suffixes=('_jobs5', '_companyspecialitiesname'))\n",
    "\n",
    "# Select relevant columns"
   ]
  },
  {
   "cell_type": "code",
   "execution_count": 7,
   "id": "b225260b-7765-484b-961f-5c9b5c7006fb",
   "metadata": {},
   "outputs": [],
   "source": [
    "columns_to_keep = [\n",
    "    'company_name', 'title', 'description', 'location', 'job_posting_url', 'expiry',\n",
    "    'skill_abr', 'skill_name', 'industry_name', 'industry'\n",
    "]\n",
    "jobs = jobs[columns_to_keep]\n"
   ]
  },
  {
   "cell_type": "code",
   "execution_count": null,
   "id": "118c689b-e453-4c7e-b852-fe1a2dc72a30",
   "metadata": {},
   "outputs": [],
   "source": []
  },
  {
   "cell_type": "code",
   "execution_count": 8,
   "id": "fb3f43e8-322e-456a-8dd1-eb6e07eb3b02",
   "metadata": {},
   "outputs": [],
   "source": [
    "def collapse(L):\n",
    "    L1 = [i.replace(\" \",\"\") for i in L]\n",
    "    return L1\n",
    "\n",
    "# Clean the data\n",
    "jobs['title'] = jobs['title'].apply(lambda x: ''.join(collapse(x.split())))\n",
    "jobs['skill_abr'] = jobs['skill_abr'].apply(lambda x: ''.join(collapse(x.split())))\n",
    "jobs['skill_name'] = jobs['skill_name'].apply(lambda x: ''.join(collapse(x.split())))\n",
    "jobs['industry'] = jobs['industry'].apply(lambda x: ''.join(collapse(x.split())))"
   ]
  },
  {
   "cell_type": "code",
   "execution_count": 22,
   "id": "cb37f62f-4ee0-48f2-987d-428f36e669b8",
   "metadata": {},
   "outputs": [],
   "source": [
    "def preprocess_text(text):\n",
    "    text = text.lower()\n",
    "    text = re.sub('<.*?>', '', text)  # Remove HTML tags\n",
    "    text = re.sub('[^a-z\\s]', '', text)  # Remove special characters and digits\n",
    "    return text\n",
    "\n",
    "# Apply preprocessing\n",
    "jobs['description'] = jobs['description'].apply(preprocess_text)\n",
    "\n",
    "# Combine relevant columns to create tags\n",
    "jobs['tags'] = (jobs['title'] + ' ' + jobs['skill_name'] + ' ' +\n",
    "                jobs['industry_name'] + ' ' + jobs['description'])\n"
   ]
  },
  {
   "cell_type": "code",
   "execution_count": 9,
   "id": "944fdf0a-a46c-43f5-835e-4d3717bcf3c0",
   "metadata": {},
   "outputs": [],
   "source": []
  },
  {
   "cell_type": "code",
   "execution_count": 23,
   "id": "693f599b-2344-4371-835c-210be41fc4c8",
   "metadata": {},
   "outputs": [],
   "source": [
    "jobs = jobs.sample(n=12000).reset_index(drop=True)"
   ]
  },
  {
   "cell_type": "code",
   "execution_count": 28,
   "id": "c61b8e80-089e-4984-a423-c8d09b4007cf",
   "metadata": {},
   "outputs": [],
   "source": [
    "jobs.fillna('', inplace=True)\n"
   ]
  },
  {
   "cell_type": "code",
   "execution_count": 29,
   "id": "5c5bc354-4779-4fd0-80c8-2b8e0d745b3d",
   "metadata": {},
   "outputs": [],
   "source": [
    "from sklearn.feature_extraction.text import TfidfVectorizer"
   ]
  },
  {
   "cell_type": "code",
   "execution_count": 30,
   "id": "2c3e224b-6ad5-4b12-ad8d-9987dc723f09",
   "metadata": {},
   "outputs": [],
   "source": [
    "tfidf = TfidfVectorizer(stop_words='english')\n",
    "vector = tfidf.fit_transform(jobs['tags'])"
   ]
  },
  {
   "cell_type": "code",
   "execution_count": 31,
   "id": "ed00da32-4a35-4265-bac0-8aefd6f602d3",
   "metadata": {},
   "outputs": [],
   "source": [
    "similarity = cosine_similarity(vector)"
   ]
  },
  {
   "cell_type": "code",
   "execution_count": 32,
   "id": "6b33a42f-f3e0-4541-ae15-2ad3e390e782",
   "metadata": {},
   "outputs": [],
   "source": [
    "def recommend(job_title):\n",
    "    job_title = preprocess_text(job_title)  # Preprocess the input\n",
    "    matching_titles = jobs[jobs['title'].str.contains(job_title, case=False, na=False)]\n",
    "    \n",
    "    if matching_titles.empty:\n",
    "        print(\"Job title not found. Please check the input.\")\n",
    "        return\n",
    "\n",
    "    index = matching_titles.index[0]\n",
    "    distances = sorted(list(enumerate(similarity[index])), reverse=True, key=lambda x: x[1])\n",
    "    recommended_jobs = [jobs.iloc[i[0]].title for i in distances[1:6]]\n",
    "\n",
    "    print(f\"Recommendations for '{job_title}':\")\n",
    "    for job in recommended_jobs:\n",
    "        print(job)\n"
   ]
  },
  {
   "cell_type": "code",
   "execution_count": 37,
   "id": "82f2bfdf-f3b0-4fab-8905-f050bac974dd",
   "metadata": {},
   "outputs": [],
   "source": [
    "def recommend(job_title, top_n=5):\n",
    "    job_title = preprocess_text(job_title)  # Preprocess the input\n",
    "    matching_titles = jobs[jobs['title'].str.contains(job_title, case=False, na=False)]\n",
    "    \n",
    "    if matching_titles.empty:\n",
    "        print(\"Job title not found. Please check the input.\")\n",
    "        return\n",
    "    \n",
    "    index = matching_titles.index[0]\n",
    "    distances = sorted(list(enumerate(similarity[index])), reverse=True, key=lambda x: x[1])\n",
    "    \n",
    "    recommended_jobs = []\n",
    "    for i in distances[1:top_n+1]:\n",
    "        job = jobs.iloc[i[0]]\n",
    "        recommended_jobs.append({\n",
    "            'Title': job['title'],\n",
    "            'Company': job['company_name'],\n",
    "            'Location': job['location'],\n",
    "            'URL': job['job_posting_url']\n",
    "        })\n",
    "    \n",
    "    print(f\"Recommendations for '{job_title}':\")\n",
    "    for job in recommended_jobs:\n",
    "        print(f\"Title: {job['Title']}\")\n",
    "        print(f\"Company: {job['Company']}\")\n",
    "        print(f\"Location: {job['Location']}\")\n",
    "        print(f\"URL: {job['URL']}\")\n",
    "        print(\"---\")\n"
   ]
  },
  {
   "cell_type": "code",
   "execution_count": 38,
   "id": "69af8ba7-812a-459e-9618-974249979099",
   "metadata": {},
   "outputs": [
    {
     "name": "stdout",
     "output_type": "stream",
     "text": [
      "Recommendations for 'analyst':\n",
      "Title: PowerBIDeveloper\n",
      "Company: Ascendo Resources\n",
      "Location: Metro Jacksonville\n",
      "URL: https://www.linkedin.com/jobs/view/3904429144/?trk=jobs_biz_prem_srch\n",
      "---\n",
      "Title: FinancialBusinessIntelligenceDeveloper\n",
      "Company: POWER Engineers\n",
      "Location: Boise, ID\n",
      "URL: https://www.linkedin.com/jobs/view/3906259167/?trk=jobs_biz_prem_srch\n",
      "---\n",
      "Title: FinancialSystemsAnalyst\n",
      "Company: Creative Financial Staffing (CFS)\n",
      "Location: Grand Rapids, MI\n",
      "URL: https://www.linkedin.com/jobs/view/3885858365/?trk=jobs_biz_prem_srch\n",
      "---\n",
      "Title: Sr.BusinessAnalyst1\n",
      "Company: Skyworks Solutions, Inc.\n",
      "Location: Irvine, CA\n",
      "URL: https://www.linkedin.com/jobs/view/3901963396/?trk=jobs_biz_prem_srch\n",
      "---\n",
      "Title: SharepointDeveloper\n",
      "Company: BCforward\n",
      "Location: Houston, TX\n",
      "URL: https://www.linkedin.com/jobs/view/3902911945/?trk=jobs_biz_prem_srch\n",
      "---\n"
     ]
    }
   ],
   "source": [
    "recommend('Analyst')"
   ]
  },
  {
   "cell_type": "code",
   "execution_count": 39,
   "id": "9ba24276-c4c4-4a8c-8b80-8abd5da77e7f",
   "metadata": {},
   "outputs": [],
   "source": [
    "# Improved recommend function\n",
    "def recommend(job_title, location, top_n=5):\n",
    "    job_title = preprocess_text(job_title)  # Preprocess the input job title\n",
    "    location = preprocess_text(location)  # Preprocess the input location\n",
    "    \n",
    "    matching_jobs = jobs[(jobs['title'].str.contains(job_title, case=False, na=False)) &\n",
    "                         (jobs['location'].str.contains(location, case=False, na=False))]\n",
    "    \n",
    "    if matching_jobs.empty:\n",
    "        print(\"No matching jobs found for the given job title and location. Please check the input.\")\n",
    "        return\n",
    "    \n",
    "    index = matching_jobs.index[0]\n",
    "    distances = sorted(list(enumerate(similarity[index])), reverse=True, key=lambda x: x[1])\n",
    "    \n",
    "    recommended_jobs = []\n",
    "    for i in distances[1:top_n+1]:\n",
    "        job = jobs.iloc[i[0]]\n",
    "        recommended_jobs.append({\n",
    "            'Title': job['title'],\n",
    "            'Company': job['company_name'],\n",
    "            'Location': job['location'],\n",
    "            'URL': job['job_posting_url']\n",
    "        })\n",
    "    \n",
    "    print(f\"Recommendations for '{job_title}' in '{location}':\")\n",
    "    for job in recommended_jobs:\n",
    "        print(f\"Title: {job['Title']}\")\n",
    "        print(f\"Company: {job['Company']}\")\n",
    "        print(f\"Location: {job['Location']}\")\n",
    "        print(f\"URL: {job['URL']}\")\n",
    "        print(\"---\")"
   ]
  },
  {
   "cell_type": "code",
   "execution_count": 40,
   "id": "30d6923a-9eca-4e36-8db8-9235cee043f4",
   "metadata": {},
   "outputs": [
    {
     "name": "stdout",
     "output_type": "stream",
     "text": [
      "Recommendations for 'analyst' in 'new york':\n",
      "Title: DataAnalyst\n",
      "Company: Genpact\n",
      "Location: San Antonio, Texas Metropolitan Area\n",
      "URL: https://www.linkedin.com/jobs/view/3903848583/?trk=jobs_biz_prem_srch\n",
      "---\n",
      "Title: DataAnalyst\n",
      "Company: Genpact\n",
      "Location: San Antonio, Texas Metropolitan Area\n",
      "URL: https://www.linkedin.com/jobs/view/3903848583/?trk=jobs_biz_prem_srch\n",
      "---\n",
      "Title: DataEngineer-Remote\n",
      "Company: Orbit Recruitment Group \n",
      "Location: New York, NY\n",
      "URL: https://www.linkedin.com/jobs/view/3905208625/?trk=jobs_biz_prem_srch\n",
      "---\n",
      "Title: DataEngineer\n",
      "Company: V2Soft\n",
      "Location: Auburn Hills, MI\n",
      "URL: https://www.linkedin.com/jobs/view/3902351966/?trk=jobs_biz_prem_srch\n",
      "---\n",
      "Title: Office/Administration-DataAnalystLv3#:24-02340\n",
      "Company: HireTalent - Diversity Staffing & Recruiting Firm\n",
      "Location: Wayzata, MN\n",
      "URL: https://www.linkedin.com/jobs/view/3887718042/?trk=jobs_biz_prem_srch\n",
      "---\n"
     ]
    }
   ],
   "source": []
  },
  {
   "cell_type": "code",
   "execution_count": 42,
   "id": "e384ade2-5d7d-401d-b959-87dbe81a2cb9",
   "metadata": {},
   "outputs": [
    {
     "name": "stdout",
     "output_type": "stream",
     "text": [
      "Recommendations for 'salesperson' in 'new york':\n",
      "Title: OutsideSalesperson\n",
      "Company: The Viscusi Group\n",
      "Location: New York City Metropolitan Area\n",
      "URL: https://www.linkedin.com/jobs/view/3741582728/?trk=jobs_biz_prem_srch\n",
      "---\n",
      "Title: OutsideSalesperson\n",
      "Company: The Viscusi Group\n",
      "Location: New York City Metropolitan Area\n",
      "URL: https://www.linkedin.com/jobs/view/3741582728/?trk=jobs_biz_prem_srch\n",
      "---\n",
      "Title: OutsideSalesperson\n",
      "Company: The Viscusi Group\n",
      "Location: New York City Metropolitan Area\n",
      "URL: https://www.linkedin.com/jobs/view/3741582728/?trk=jobs_biz_prem_srch\n",
      "---\n"
     ]
    }
   ],
   "source": [
    "\n"
   ]
  },
  {
   "cell_type": "code",
   "execution_count": 43,
   "id": "d24565f5-22fa-46ae-bdb0-a85508d24c37",
   "metadata": {},
   "outputs": [
    {
     "name": "stdout",
     "output_type": "stream",
     "text": [
      "Recommendations for 'analyst' in 'new york':\n",
      "Title: PrivateEquityAnalyst\n",
      "Company: Augment Jobs\n",
      "Location: New York City Metropolitan Area\n",
      "URL: https://www.linkedin.com/jobs/view/3898162368/?trk=jobs_biz_prem_srch\n",
      "---\n",
      "Title: SeniorAnalyst,StrategicFinance\n",
      "Company: OneTrust\n",
      "Location: New York City Metropolitan Area\n",
      "URL: https://www.linkedin.com/jobs/view/3888479494/?trk=jobs_biz_prem_srch\n",
      "---\n",
      "Title: JuniorKYC/AMLAnalyst\n",
      "Company: ApTask\n",
      "Location: New York, NY\n",
      "URL: https://www.linkedin.com/jobs/view/3894290208/?trk=jobs_biz_prem_srch\n",
      "---\n"
     ]
    }
   ],
   "source": [
    "# ...\n",
    "# (previous code remains the same)\n",
    "# ...\n",
    "\n",
    "# Improved recommend function\n",
    "def recommend(job_title, location, top_n=5):\n",
    "    job_title = preprocess_text(job_title)  # Preprocess the input job title\n",
    "    location = preprocess_text(location)  # Preprocess the input location\n",
    "    \n",
    "    matching_jobs = jobs[(jobs['title'].str.contains(job_title, case=False, na=False)) &\n",
    "                         (jobs['location'].str.contains(location, case=False, na=False))]\n",
    "    \n",
    "    if matching_jobs.empty:\n",
    "        # If no exact matches found, try partial matching for location\n",
    "        matching_jobs = jobs[(jobs['title'].str.contains(job_title, case=False, na=False)) &\n",
    "                             (jobs['location'].apply(lambda x: location in preprocess_text(x)))]\n",
    "    \n",
    "    if matching_jobs.empty:\n",
    "        print(\"No matching jobs found for the given job title and location. Please check the input.\")\n",
    "        return\n",
    "    \n",
    "    job_indices = matching_jobs.index\n",
    "    distances = sorted([(i, similarity[i][job_indices].mean()) for i in job_indices], reverse=True, key=lambda x: x[1])\n",
    "    \n",
    "    recommended_jobs = []\n",
    "    recommended_urls = set()\n",
    "    for i, _ in distances:\n",
    "        job = matching_jobs.loc[i]\n",
    "        if job['job_posting_url'] not in recommended_urls:\n",
    "            recommended_jobs.append({\n",
    "                'Title': job['title'],\n",
    "                'Company': job['company_name'],\n",
    "                'Location': job['location'],\n",
    "                'URL': job['job_posting_url']\n",
    "            })\n",
    "            recommended_urls.add(job['job_posting_url'])\n",
    "        \n",
    "        if len(recommended_jobs) == top_n:\n",
    "            break\n",
    "    \n",
    "    print(f\"Recommendations for '{job_title}' in '{location}':\")\n",
    "    for job in recommended_jobs:\n",
    "        print(f\"Title: {job['Title']}\")\n",
    "        print(f\"Company: {job['Company']}\")\n",
    "        print(f\"Location: {job['Location']}\")\n",
    "        print(f\"URL: {job['URL']}\")\n",
    "        print(\"---\")\n",
    "\n",
    "# Test the recommendation function\n",
    "recommend('Analyst', 'New York', top_n=3)"
   ]
  },
  {
   "cell_type": "code",
   "execution_count": 44,
   "id": "bd770274-65eb-4fea-afd3-08e811b002b1",
   "metadata": {},
   "outputs": [],
   "source": [
    "pickle.dump(jobs,open('jobs_list.pkl','wb'))\n",
    "pickle.dump(similarity,open('similarity.pkl','wb'))"
   ]
  },
  {
   "cell_type": "code",
   "execution_count": null,
   "id": "725d8c86-45fc-4b33-bbf0-034d7bdfe515",
   "metadata": {},
   "outputs": [],
   "source": []
  }
 ],
 "metadata": {
  "kernelspec": {
   "display_name": "Python 3 (ipykernel)",
   "language": "python",
   "name": "python3"
  },
  "language_info": {
   "codemirror_mode": {
    "name": "ipython",
    "version": 3
   },
   "file_extension": ".py",
   "mimetype": "text/x-python",
   "name": "python",
   "nbconvert_exporter": "python",
   "pygments_lexer": "ipython3",
   "version": "3.11.8"
  }
 },
 "nbformat": 4,
 "nbformat_minor": 5
}
